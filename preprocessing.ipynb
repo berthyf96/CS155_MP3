{
 "cells": [
  {
   "cell_type": "code",
   "execution_count": 1,
   "metadata": {},
   "outputs": [],
   "source": [
    "import nltk\n",
    "import numpy as np\n",
    "from nltk.tokenize import TweetTokenizer"
   ]
  },
  {
   "cell_type": "code",
   "execution_count": null,
   "metadata": {},
   "outputs": [],
   "source": [
    "import pickle \n",
    "\n",
    "def save_obj(obj, name ):\n",
    "    with open('obj/'+ name + '.pkl', 'wb') as f:\n",
    "        pickle.dump(obj, f, pickle.HIGHEST_PROTOCOL)\n",
    "\n",
    "def load_obj(name ):\n",
    "    with open('obj/' + name + '.pkl', 'rb') as f:\n",
    "        return pickle.load(f)"
   ]
  },
  {
   "cell_type": "code",
   "execution_count": null,
   "metadata": {},
   "outputs": [],
   "source": [
    "syllables_file = \"data/Syllable_dictionary.txt\"\n",
    "shakespeare_file = \"data/shakespeare.txt\""
   ]
  },
  {
   "cell_type": "code",
   "execution_count": null,
   "metadata": {},
   "outputs": [],
   "source": [
    "syllables_dict = dict()\n",
    "with open(syllables_file, 'r') as f:\n",
    "    for l in f:\n",
    "        line = l.strip()\n",
    "        # remove new line rows and number rows\n",
    "        words = line.split(\" \")\n",
    "        word_dict = dict()\n",
    "        word_dict[\"index\"] = len(syllables_dict)\n",
    "        for word in words[1:]:\n",
    "            if ('E' in word):\n",
    "                word_dict[\"end_syllab\"] = int(word.split('E')[1])\n",
    "            else:\n",
    "                if \"syllabs\" not in word_dict.keys():\n",
    "                    word_dict[\"syllabs\"] = []\n",
    "                word_dict[\"syllabs\"].append(int(word))\n",
    "        syllables_dict[words[0]] = word_dict"
   ]
  },
  {
   "cell_type": "code",
   "execution_count": null,
   "metadata": {},
   "outputs": [],
   "source": [
    "save_obj(syllables_dict, \"syllables_dict\" )\n",
    "print(syllables_dict)"
   ]
  },
  {
   "cell_type": "code",
   "execution_count": null,
   "metadata": {},
   "outputs": [],
   "source": [
    "rhyme_scheme = [0, 1, 0, 1, 2, 3, 2, 3, 4, 5, 4, 5, 6, 6]"
   ]
  },
  {
   "cell_type": "code",
   "execution_count": null,
   "metadata": {},
   "outputs": [],
   "source": [
    "sentences = []\n",
    "lines = []\n",
    "sentences_index = []\n",
    "# syllables = \n",
    "with open(shakespeare_file, 'r') as f:\n",
    "    for l in f:\n",
    "        line = l.strip()\n",
    "        # remove new line rows and number rows\n",
    "        if line != \"\" and len(line)>3:\n",
    "            words = line.split(\" \")\n",
    "            words = np.char.strip(words, \".\")\n",
    "            words = np.char.strip(words, \"?\")\n",
    "            words = np.char.strip(words, \",\")\n",
    "            words = np.char.strip(words, \";\")\n",
    "            words = np.char.strip(words, \":\")\n",
    "            words = np.char.strip(words, \"()\")\n",
    "            words = np.char.strip(words, \")\")\n",
    "            words = np.char.strip(words, \"!\")\n",
    "            words_arr = []\n",
    "            index_arr = []\n",
    "            for word in words:\n",
    "                word = word.lower()\n",
    "                if (word not in [\"'gainst\", \"'greeing\", \"'scaped\", \"'tis\", \"'twixt\", \"th'\", \"t'\"]):\n",
    "                    word = np.char.strip(word, \"'\")\n",
    "                    word = np.char.strip(word, \".\")\n",
    "                    word = np.char.strip(word, \"?\")\n",
    "                    word = np.char.strip(word, \",\")\n",
    "                    word = np.char.strip(word, \";\")\n",
    "                    word = np.char.strip(word, \":\")\n",
    "                    word = np.char.strip(word, \"()\")\n",
    "                    word = np.char.strip(word, \")\")\n",
    "                    word = np.char.strip(word, \"!\")\n",
    "                words_arr.append(str(word))\n",
    "                word_idx = syllables_dict[str(word)][\"index\"]\n",
    "                index_arr.append(word_idx)\n",
    "                \n",
    "            sentences.append(words_arr)\n",
    "            lines.append(line)\n",
    "            sentences_index.append(index_arr)\n"
   ]
  },
  {
   "cell_type": "code",
   "execution_count": null,
   "metadata": {},
   "outputs": [],
   "source": [
    "print(sentences)\n",
    "print(sentences_index)"
   ]
  },
  {
   "cell_type": "code",
   "execution_count": null,
   "metadata": {},
   "outputs": [],
   "source": [
    "save_obj(sentences, \"sentences_arr\")\n",
    "save_obj(sentences_index, \"sentences_idx_arr\")"
   ]
  },
  {
   "cell_type": "code",
   "execution_count": null,
   "metadata": {},
   "outputs": [],
   "source": [
    "syllables_shakespear = []\n",
    "for i in range(len(sentences)):\n",
    "    line = sentences[i]\n",
    "    syllables_line = []\n",
    "    print(line)\n",
    "    for j in range(len(line)):\n",
    "        word = line[j]\n",
    "        syllables_word = syllables_dict[word]\n",
    "        syllables_line.append(syllables_word)\n",
    "        #check if end of line\n",
    "        if j == len(line)-1:\n",
    "            pass\n",
    "            "
   ]
  },
  {
   "cell_type": "code",
   "execution_count": null,
   "metadata": {},
   "outputs": [],
   "source": [
    "tknzr = TweetTokenizer()\n",
    "tokenized_sentence = tknzr.tokenize(sentence)"
   ]
  },
  {
   "cell_type": "code",
   "execution_count": null,
   "metadata": {},
   "outputs": [],
   "source": []
  }
 ],
 "metadata": {
  "kernelspec": {
   "display_name": "Python 3",
   "language": "python",
   "name": "python3"
  },
  "language_info": {
   "codemirror_mode": {
    "name": "ipython",
    "version": 3
   },
   "file_extension": ".py",
   "mimetype": "text/x-python",
   "name": "python",
   "nbconvert_exporter": "python",
   "pygments_lexer": "ipython3",
   "version": "3.6.5"
  }
 },
 "nbformat": 4,
 "nbformat_minor": 4
}
